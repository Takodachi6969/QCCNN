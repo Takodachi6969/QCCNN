{
 "cells": [
  {
   "cell_type": "code",
   "execution_count": 43,
   "id": "47440934",
   "metadata": {},
   "outputs": [],
   "source": [
    "import numpy as np\n",
    "import matplotlib.pyplot as plt\n",
    "def rand():\n",
    "    return np.random.rand()"
   ]
  },
  {
   "cell_type": "code",
   "execution_count": 44,
   "id": "8d8d4e4c",
   "metadata": {},
   "outputs": [],
   "source": [
    "size = 1000\n",
    "classes = 2"
   ]
  },
  {
   "cell_type": "markdown",
   "id": "c30b85a8",
   "metadata": {},
   "source": [
    "### 生成Tetris模版"
   ]
  },
  {
   "cell_type": "code",
   "execution_count": 45,
   "id": "a3373739",
   "metadata": {},
   "outputs": [],
   "source": [
    "s_mode = np.array([[0, 0, 0], [0, 1, 1], [1, 1, 0]])\n",
    "# 行翻转\n",
    "s = np.array([s_mode, s_mode[::-1]])\n",
    "# 列翻转\n",
    "s = np.append(s, s[:, :, ::-1], axis=0)\n",
    "# 转置\n",
    "s = np.append(s, s.transpose(0, 2, 1), axis=0)\n",
    "\n",
    "l_mode_1 = np.array([[1, 1, 1], [1, 0, 0], [0, 0, 0]])\n",
    "l_1 = np.array([l_mode_1, l_mode_1[::-1]])\n",
    "l_1 = np.append(l_1, l_1[:, :, ::-1], axis=0)\n",
    "l_1 = np.append(l_1, l_1.transpose(0, 2, 1), axis=0)\n",
    "l_mode_2 = np.array([[0, 0, 0], [1, 1, 1], [1, 0, 0]])\n",
    "l_2 = np.array([l_mode_2, l_mode_2[::-1]])\n",
    "l_2 = np.append(l_2, l_2[:, :, ::-1], axis=0)\n",
    "l_2 = np.append(l_2, l_2.transpose(0, 2, 1), axis=0)\n",
    "l = np.append(l_1, l_2, axis=0)\n",
    "\n",
    "o_mode = np.array([[1, 1, 0], [1, 1, 0], [0, 0, 0]])\n",
    "o = np.array([o_mode, o_mode[::-1]])\n",
    "o = np.append(o, o[:, :, ::-1], axis=0)\n",
    "\n",
    "t_mode_1 = np.array([[0, 1, 0], [1, 1, 1], [0, 0, 0]])\n",
    "t_1 = np.array([t_mode_1, t_mode_1[::-1]])\n",
    "t_1 = np.append(t_1, t_1.transpose(0, 2, 1), axis=0)\n",
    "t_mode_2 = np.array([[0, 0, 0], [0, 1, 0], [1, 1, 1]])\n",
    "t_2 = np.array([t_mode_2, t_mode_2[::-1]])\n",
    "t_2 = np.append(t_2, t_2.transpose(0, 2, 1), axis=0)\n",
    "t = np.append(t_1, t_2, axis=0)"
   ]
  },
  {
   "cell_type": "markdown",
   "id": "0f3ef0aa",
   "metadata": {},
   "source": [
    "### 随机取样"
   ]
  },
  {
   "cell_type": "code",
   "execution_count": 46,
   "id": "3336de9f",
   "metadata": {},
   "outputs": [],
   "source": [
    "x_data = np.array([]).reshape(0, 3, 3)\n",
    "y_data = np.array([])\n",
    "\n",
    "for i in range(size):\n",
    "    if classes == 4:\n",
    "        randint = np.random.randint(1, 37)\n",
    "        if 1 <= randint <= 8:\n",
    "            label = 'S'\n",
    "            mode = s[randint - 1]\n",
    "        if 9 <= randint <= 24:\n",
    "            label = 'L'\n",
    "            mode = l[randint - 8 - 1]\n",
    "        if 25 <= randint <= 28:\n",
    "            label = 'O'\n",
    "            mode = o[randint - 24 - 1]\n",
    "        if 29 <= randint <= 36:\n",
    "            label = 'T'\n",
    "            mode = t[randint - 28 - 1]      \n",
    "    elif classes == 2:\n",
    "        randint = np.random.randint(1, 17)\n",
    "        if 1 <= randint <= 8:\n",
    "            label = 'S'\n",
    "            mode = s[randint - 1]\n",
    "        if 10 <= randint <= 16:\n",
    "            label = 'T'\n",
    "            mode = t[randint - 8 - 1]\n",
    "    else:\n",
    "        pass\n",
    "    graph = [[[rand() * 0.3 + 0.7 if j == 1 else rand() * 0.1 for j in i] for i in mode]]\n",
    "    x_data = np.append(x_data, graph, axis=0)\n",
    "    y_data = np.append(y_data, label)"
   ]
  },
  {
   "cell_type": "code",
   "execution_count": 47,
   "id": "63bc9606",
   "metadata": {},
   "outputs": [
    {
     "name": "stdout",
     "output_type": "stream",
     "text": [
      "T\n",
      "(1000, 3, 3)\n",
      "(1000,)\n"
     ]
    },
    {
     "data": {
      "image/png": "[encoded data removed]",
      "text/plain": [
       "<Figure size 432x288 with 2 Axes>"
      ]
     },
     "metadata": {
      "needs_background": "light"
     },
     "output_type": "display_data"
    }
   ],
   "source": [
    "test = 253\n",
    "plt.imshow(x_data[test])\n",
    "plt.colorbar()\n",
    "print(y_data[test])\n",
    "print(x_data.shape)\n",
    "print(y_data.shape)"
   ]
  },
  {
   "cell_type": "code",
   "execution_count": 48,
   "id": "cfc59958",
   "metadata": {},
   "outputs": [
    {
     "name": "stdout",
     "output_type": "stream",
     "text": [
      "['S' 'S' 'S' 'S' 'S' 'T' 'T' 'T' 'S' 'S' 'S' 'S' 'S' 'S' 'S' 'T' 'S' 'T'\n",
      " 'T' 'T' 'T' 'T' 'T' 'T' 'S' 'T' 'T' 'T' 'S' 'S' 'S' 'S' 'S' 'T' 'T' 'S'\n",
      " 'S' 'S' 'T' 'T' 'T' 'T' 'S' 'S' 'S' 'S' 'S' 'S' 'T' 'T' 'T' 'T' 'S' 'S'\n",
      " 'S' 'S' 'S' 'S' 'S' 'T' 'T' 'T' 'T' 'T' 'T' 'S' 'S' 'T' 'T' 'S' 'S' 'S'\n",
      " 'S' 'S' 'S' 'S' 'S' 'T' 'S' 'S' 'T' 'T' 'T' 'T' 'S' 'T' 'T' 'T' 'T' 'T'\n",
      " 'T' 'T' 'T' 'T' 'T' 'S' 'S' 'S' 'T' 'T' 'T' 'T' 'T' 'S' 'T' 'T' 'S' 'S'\n",
      " 'S' 'T' 'T' 'T' 'T' 'T' 'T' 'S' 'S' 'S' 'S' 'S' 'T' 'T' 'T' 'S' 'S' 'S'\n",
      " 'T' 'T' 'T' 'S' 'T' 'T' 'S' 'S' 'S' 'T' 'T' 'T' 'T' 'S' 'S' 'S' 'S' 'S'\n",
      " 'S' 'S' 'T' 'T' 'T' 'T' 'T' 'S' 'S' 'T' 'T' 'T' 'T' 'T' 'T' 'T' 'T' 'T'\n",
      " 'T' 'T' 'S' 'T' 'T' 'T' 'T' 'S' 'S' 'S' 'S' 'T' 'T' 'S' 'S' 'S' 'S' 'S'\n",
      " 'T' 'T' 'S' 'S' 'S' 'S' 'T' 'T' 'T' 'T' 'T' 'T' 'T' 'S' 'T' 'T' 'T' 'T'\n",
      " 'T' 'S' 'S' 'S' 'T' 'T' 'S' 'S' 'S' 'S' 'S' 'T' 'T' 'T' 'T' 'T' 'T' 'S'\n",
      " 'S' 'S' 'S' 'S' 'S' 'S' 'S' 'S' 'T' 'T' 'S' 'S' 'S' 'S' 'T' 'T' 'T' 'T'\n",
      " 'T' 'T' 'S' 'S' 'S' 'T' 'T' 'T' 'T' 'T' 'T' 'T' 'T' 'T' 'T' 'T' 'T' 'T'\n",
      " 'S' 'T' 'S' 'S' 'S' 'T' 'T' 'T' 'T' 'S' 'S' 'S' 'T' 'T' 'S' 'S' 'S' 'S'\n",
      " 'T' 'T' 'T' 'T' 'T' 'S' 'T' 'T' 'T' 'T' 'T' 'S' 'T' 'T' 'T' 'T' 'T' 'S'\n",
      " 'S' 'S' 'S' 'T' 'T' 'S' 'S' 'S' 'S' 'S' 'S' 'S' 'S' 'S' 'S' 'S' 'S' 'S'\n",
      " 'S' 'S' 'S' 'S' 'S' 'S' 'S' 'S' 'S' 'S' 'S' 'S' 'S' 'S' 'S' 'S' 'S' 'T'\n",
      " 'T' 'S' 'S' 'S' 'S' 'S' 'T' 'T' 'T' 'T' 'S' 'S' 'S' 'S' 'S' 'S' 'T' 'S'\n",
      " 'S' 'S' 'T' 'T' 'T' 'T' 'T' 'T' 'T' 'T' 'T' 'T' 'S' 'T' 'T' 'T' 'S' 'S'\n",
      " 'S' 'S' 'T' 'T' 'T' 'T' 'T' 'T' 'T' 'T' 'T' 'T' 'T' 'T' 'T' 'T' 'T' 'T'\n",
      " 'T' 'S' 'S' 'T' 'S' 'S' 'S' 'S' 'S' 'T' 'T' 'T' 'T' 'T' 'S' 'T' 'T' 'T'\n",
      " 'T' 'T' 'S' 'S' 'S' 'T' 'S' 'S' 'S' 'S' 'S' 'S' 'S' 'S' 'S' 'S' 'S' 'S'\n",
      " 'S' 'S' 'S' 'S' 'S' 'S' 'S' 'S' 'S' 'S' 'S' 'S' 'S' 'S' 'S' 'S' 'S' 'S'\n",
      " 'S' 'S' 'S' 'S' 'S' 'S' 'S' 'S' 'T' 'T' 'T' 'T' 'T' 'T' 'S' 'S' 'S' 'S'\n",
      " 'S' 'S' 'T' 'T' 'T' 'T' 'T' 'S' 'S' 'S' 'S' 'T' 'T' 'T' 'T' 'T' 'T' 'T'\n",
      " 'T' 'T' 'S' 'S' 'S' 'S' 'S' 'S' 'S' 'S' 'S' 'S' 'S' 'T' 'T' 'T' 'T' 'S'\n",
      " 'T' 'T' 'T' 'T' 'S' 'S' 'S' 'S' 'S' 'S' 'S' 'S' 'S' 'S' 'S' 'T' 'T' 'T'\n",
      " 'T' 'T' 'T' 'T' 'T' 'T' 'T' 'T' 'T' 'S' 'S' 'T' 'T' 'T' 'S' 'T' 'T' 'T'\n",
      " 'T' 'T' 'T' 'T' 'S' 'S' 'S' 'T' 'S' 'T' 'S' 'S' 'S' 'T' 'T' 'T' 'S' 'S'\n",
      " 'T' 'T' 'T' 'T' 'T' 'T' 'T' 'T' 'T' 'S' 'S' 'S' 'S' 'S' 'T' 'S' 'S' 'T'\n",
      " 'T' 'T' 'T' 'T' 'T' 'T' 'S' 'S' 'S' 'S' 'T' 'T' 'T' 'S' 'S' 'S' 'S' 'T'\n",
      " 'T' 'T' 'T' 'S' 'T' 'S' 'S' 'S' 'S' 'S' 'S' 'S' 'S' 'S' 'S' 'S' 'T' 'T'\n",
      " 'T' 'T' 'T' 'T' 'T' 'T' 'S' 'S' 'S' 'S' 'S' 'S' 'S' 'T' 'S' 'S' 'S' 'S'\n",
      " 'S' 'S' 'S' 'S' 'S' 'T' 'T' 'T' 'S' 'S' 'S' 'S' 'S' 'S' 'T' 'S' 'S' 'T'\n",
      " 'S' 'S' 'S' 'S' 'S' 'S' 'T' 'T' 'T' 'T' 'S' 'S' 'S' 'S' 'S' 'S' 'S' 'T'\n",
      " 'T' 'T' 'S' 'T' 'S' 'S' 'T' 'T' 'T' 'T' 'T' 'S' 'S' 'S' 'T' 'T' 'T' 'T'\n",
      " 'T' 'T' 'T' 'T' 'T' 'T' 'T' 'S' 'T' 'S' 'S' 'S' 'S' 'S' 'S' 'T' 'T' 'T'\n",
      " 'T' 'S' 'T' 'T' 'T' 'T' 'T' 'T' 'T' 'T' 'T' 'T' 'S' 'S' 'S' 'S' 'S' 'S'\n",
      " 'S' 'S' 'T' 'T' 'T' 'S' 'S' 'S' 'T' 'T' 'T' 'S' 'S' 'S' 'S' 'S' 'S' 'S'\n",
      " 'S' 'S' 'S' 'S' 'S' 'S' 'S' 'S' 'S' 'S' 'S' 'S' 'T' 'T' 'T' 'T' 'T' 'T'\n",
      " 'T' 'T' 'S' 'S' 'S' 'S' 'S' 'S' 'S' 'S' 'T' 'S' 'T' 'T' 'T' 'S' 'S' 'S'\n",
      " 'S' 'S' 'S' 'S' 'S' 'S' 'S' 'S' 'S' 'S' 'S' 'T' 'T' 'T' 'T' 'T' 'T' 'T'\n",
      " 'T' 'T' 'T' 'T' 'T' 'S' 'S' 'S' 'S' 'S' 'S' 'S' 'S' 'S' 'S' 'S' 'S' 'S'\n",
      " 'S' 'S' 'S' 'S' 'S' 'S' 'S' 'S' 'S' 'S' 'S' 'S' 'S' 'T' 'S' 'S' 'S' 'T'\n",
      " 'S' 'S' 'T' 'T' 'T' 'T' 'T' 'T' 'T' 'T' 'T' 'T' 'S' 'S' 'S' 'S' 'T' 'S'\n",
      " 'S' 'S' 'S' 'T' 'T' 'S' 'S' 'S' 'S' 'S' 'S' 'T' 'T' 'T' 'T' 'T' 'T' 'T'\n",
      " 'T' 'T' 'T' 'T' 'T' 'T' 'T' 'T' 'T' 'T' 'T' 'S' 'S' 'S' 'S' 'S' 'T' 'T'\n",
      " 'T' 'S' 'S' 'S' 'S' 'T' 'T' 'S' 'S' 'S' 'S' 'S' 'S' 'S' 'S' 'S' 'S' 'S'\n",
      " 'S' 'S' 'S' 'S' 'S' 'S' 'S' 'S' 'S' 'S' 'S' 'S' 'T' 'T' 'T' 'T' 'T' 'S'\n",
      " 'T' 'S' 'S' 'T' 'S' 'S' 'S' 'S' 'S' 'T' 'T' 'T' 'T' 'S' 'S' 'S' 'S' 'S'\n",
      " 'S' 'S' 'S' 'T' 'T' 'T' 'T' 'T' 'T' 'S' 'S' 'S' 'S' 'T' 'S' 'S' 'S' 'S'\n",
      " 'S' 'S' 'S' 'S' 'S' 'S' 'T' 'T' 'T' 'T' 'T' 'T' 'T' 'T' 'T' 'S' 'S' 'T'\n",
      " 'T' 'T' 'S' 'T' 'T' 'T' 'S' 'S' 'S' 'S' 'S' 'S' 'S' 'S' 'S' 'S' 'S' 'T'\n",
      " 'T' 'S' 'S' 'T' 'T' 'T' 'T' 'T' 'T' 'S' 'S' 'S' 'S' 'S' 'T' 'T' 'T' 'T'\n",
      " 'T' 'T' 'T' 'T' 'T' 'T' 'T' 'T' 'S' 'S']\n"
     ]
    }
   ],
   "source": [
    "print(y_data)"
   ]
  },
  {
   "cell_type": "code",
   "execution_count": null,
   "id": "31b8ee0c",
   "metadata": {},
   "outputs": [],
   "source": []
  }
 ],
 "metadata": {
  "kernelspec": {
   "display_name": "Python 3",
   "language": "python",
   "name": "python3"
  },
  "language_info": {
   "codemirror_mode": {
    "name": "ipython",
    "version": 3
   },
   "file_extension": ".py",
   "mimetype": "text/x-python",
   "name": "python",
   "nbconvert_exporter": "python",
   "pygments_lexer": "ipython3",
   "version": "3.8.3"
  }
 },
 "nbformat": 4,
 "nbformat_minor": 5
}
